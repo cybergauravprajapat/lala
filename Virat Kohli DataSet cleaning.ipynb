{
 "cells": [
  {
   "cell_type": "code",
   "execution_count": 1,
   "id": "6f1657f8-6799-4131-a4f7-842afa6f79d6",
   "metadata": {},
   "outputs": [],
   "source": [
    "import pandas as pd"
   ]
  },
  {
   "cell_type": "code",
   "execution_count": 2,
   "id": "a6f82017-7902-4ef0-9e61-2536d5d04c1d",
   "metadata": {},
   "outputs": [],
   "source": [
    "dataset = pd.read_csv(\"Virat Kohli DataSet.csv\")"
   ]
  },
  {
   "cell_type": "code",
   "execution_count": 24,
   "id": "0057612c-fc33-43c8-9001-8f8c1ee38fcf",
   "metadata": {},
   "outputs": [
    {
     "data": {
      "text/html": [
       "<div>\n",
       "<style scoped>\n",
       "    .dataframe tbody tr th:only-of-type {\n",
       "        vertical-align: middle;\n",
       "    }\n",
       "\n",
       "    .dataframe tbody tr th {\n",
       "        vertical-align: top;\n",
       "    }\n",
       "\n",
       "    .dataframe thead th {\n",
       "        text-align: right;\n",
       "    }\n",
       "</style>\n",
       "<table border=\"1\" class=\"dataframe\">\n",
       "  <thead>\n",
       "    <tr style=\"text-align: right;\">\n",
       "      <th></th>\n",
       "      <th>Runs</th>\n",
       "      <th>BF</th>\n",
       "      <th>4s</th>\n",
       "      <th>6s</th>\n",
       "      <th>SR</th>\n",
       "      <th>Pos</th>\n",
       "      <th>Dismissal</th>\n",
       "      <th>Inns</th>\n",
       "      <th>Opposition</th>\n",
       "      <th>Ground</th>\n",
       "      <th>Start Date</th>\n",
       "      <th>Start Date Year</th>\n",
       "      <th>Start Date Months</th>\n",
       "    </tr>\n",
       "  </thead>\n",
       "  <tbody>\n",
       "    <tr>\n",
       "      <th>0</th>\n",
       "      <td>12</td>\n",
       "      <td>22</td>\n",
       "      <td>1</td>\n",
       "      <td>0</td>\n",
       "      <td>54.54</td>\n",
       "      <td>2</td>\n",
       "      <td>lbw</td>\n",
       "      <td>1</td>\n",
       "      <td>Sri Lanka</td>\n",
       "      <td>Dambulla</td>\n",
       "      <td>2008-08-18</td>\n",
       "      <td>2008</td>\n",
       "      <td>8</td>\n",
       "    </tr>\n",
       "    <tr>\n",
       "      <th>1</th>\n",
       "      <td>37</td>\n",
       "      <td>67</td>\n",
       "      <td>6</td>\n",
       "      <td>0</td>\n",
       "      <td>55.22</td>\n",
       "      <td>2</td>\n",
       "      <td>caught</td>\n",
       "      <td>2</td>\n",
       "      <td>Sri Lanka</td>\n",
       "      <td>Dambulla</td>\n",
       "      <td>2008-08-20</td>\n",
       "      <td>2008</td>\n",
       "      <td>8</td>\n",
       "    </tr>\n",
       "  </tbody>\n",
       "</table>\n",
       "</div>"
      ],
      "text/plain": [
       "   Runs  BF  4s  6s     SR  Pos Dismissal  Inns Opposition    Ground  \\\n",
       "0    12  22   1   0  54.54    2       lbw     1  Sri Lanka  Dambulla   \n",
       "1    37  67   6   0  55.22    2    caught     2  Sri Lanka  Dambulla   \n",
       "\n",
       "  Start Date  Start Date Year  Start Date Months  \n",
       "0 2008-08-18             2008                  8  \n",
       "1 2008-08-20             2008                  8  "
      ]
     },
     "execution_count": 24,
     "metadata": {},
     "output_type": "execute_result"
    }
   ],
   "source": [
    "dataset.head(2)"
   ]
  },
  {
   "cell_type": "code",
   "execution_count": null,
   "id": "5b99233a-5cf7-4f4e-8686-b79d974607a5",
   "metadata": {},
   "outputs": [],
   "source": []
  },
  {
   "cell_type": "code",
   "execution_count": 5,
   "id": "50293f18-0a43-4216-9601-23e0afba7652",
   "metadata": {},
   "outputs": [],
   "source": [
    "# dataset.isnull().sum()"
   ]
  },
  {
   "cell_type": "code",
   "execution_count": 18,
   "id": "46a0dc36-b554-44d2-bd65-85492350f466",
   "metadata": {},
   "outputs": [
    {
     "name": "stdout",
     "output_type": "stream",
     "text": [
      "<class 'pandas.core.frame.DataFrame'>\n",
      "RangeIndex: 132 entries, 0 to 131\n",
      "Data columns (total 13 columns):\n",
      " #   Column             Non-Null Count  Dtype         \n",
      "---  ------             --------------  -----         \n",
      " 0   Runs               132 non-null    int64         \n",
      " 1   BF                 132 non-null    int64         \n",
      " 2   4s                 132 non-null    int64         \n",
      " 3   6s                 132 non-null    int64         \n",
      " 4   SR                 132 non-null    float64       \n",
      " 5   Pos                132 non-null    int64         \n",
      " 6   Dismissal          132 non-null    object        \n",
      " 7   Inns               132 non-null    int64         \n",
      " 8   Opposition         132 non-null    object        \n",
      " 9   Ground             132 non-null    object        \n",
      " 10  Start Date         132 non-null    datetime64[ns]\n",
      " 11  Start Date Year    132 non-null    int32         \n",
      " 12  Start Date Months  132 non-null    int32         \n",
      "dtypes: datetime64[ns](1), float64(1), int32(2), int64(6), object(3)\n",
      "memory usage: 12.5+ KB\n"
     ]
    }
   ],
   "source": [
    "dataset.info()"
   ]
  },
  {
   "cell_type": "code",
   "execution_count": null,
   "id": "8978c73e-d338-4b3a-b1a4-7ba0d0cab18f",
   "metadata": {},
   "outputs": [],
   "source": []
  },
  {
   "cell_type": "markdown",
   "id": "ee7930ac-6f92-4679-b76f-50328b31536b",
   "metadata": {},
   "source": [
    "# Pos"
   ]
  },
  {
   "cell_type": "code",
   "execution_count": 8,
   "id": "7e0bbacc-c1c1-4be0-8118-d82917e6e88d",
   "metadata": {},
   "outputs": [],
   "source": [
    "dataset['Pos'] = dataset['Pos'].astype(\"int64\")"
   ]
  },
  {
   "cell_type": "code",
   "execution_count": null,
   "id": "71455063-5acc-408e-8004-56df80add9a1",
   "metadata": {},
   "outputs": [],
   "source": []
  },
  {
   "cell_type": "markdown",
   "id": "f1f8ffd4-8cb3-4582-a54d-48135743db6e",
   "metadata": {},
   "source": [
    "# Start Date"
   ]
  },
  {
   "cell_type": "code",
   "execution_count": 11,
   "id": "7c56ad22-d4ae-46ee-a32c-757d92c129e1",
   "metadata": {},
   "outputs": [
    {
     "name": "stderr",
     "output_type": "stream",
     "text": [
      "C:\\Users\\Admin\\AppData\\Local\\Temp\\ipykernel_15960\\4093909123.py:1: UserWarning: Could not infer format, so each element will be parsed individually, falling back to `dateutil`. To ensure parsing is consistent and as-expected, please specify a format.\n",
      "  dataset['Start Date'] = pd.to_datetime(dataset['Start Date'])\n"
     ]
    }
   ],
   "source": [
    "dataset['Start Date'] = pd.to_datetime(dataset['Start Date'])"
   ]
  },
  {
   "cell_type": "code",
   "execution_count": 15,
   "id": "17078415-85b5-425b-8582-5fdda24818bd",
   "metadata": {},
   "outputs": [],
   "source": [
    "dataset['Start Date Year'] = dataset['Start Date'].dt.year"
   ]
  },
  {
   "cell_type": "code",
   "execution_count": 17,
   "id": "537b795d-edb6-4d3d-801e-2c5df16cd2ab",
   "metadata": {},
   "outputs": [],
   "source": [
    "dataset['Start Date Months'] = dataset['Start Date'].dt.month"
   ]
  },
  {
   "cell_type": "code",
   "execution_count": null,
   "id": "4d3b3fd3-6ec8-4d3c-a8e7-b1c6a5db7d73",
   "metadata": {},
   "outputs": [],
   "source": []
  },
  {
   "cell_type": "markdown",
   "id": "7543b741-1e9b-4b3c-bbd4-afdee67ea159",
   "metadata": {},
   "source": [
    "# Opposition\t"
   ]
  },
  {
   "cell_type": "code",
   "execution_count": 23,
   "id": "67195a9e-822d-41ad-a822-5e5a47990907",
   "metadata": {},
   "outputs": [
    {
     "data": {
      "text/plain": [
       "array(['Sri Lanka', 'Australia', 'Bangladesh', 'South Africa', 'Zimbabwe',\n",
       "       'New Zealand', 'Ireland', 'Netherlands', 'West Indies', 'Pakistan',\n",
       "       'England'], dtype=object)"
      ]
     },
     "execution_count": 23,
     "metadata": {},
     "output_type": "execute_result"
    }
   ],
   "source": [
    "dataset['Opposition'].unique()"
   ]
  },
  {
   "cell_type": "code",
   "execution_count": 22,
   "id": "b31e0bb8-360e-4b27-9e04-cbe6f9f12ebb",
   "metadata": {},
   "outputs": [],
   "source": [
    "dataset['Opposition'] = dataset['Opposition'].str.replace(\"v \",\"\")"
   ]
  },
  {
   "cell_type": "code",
   "execution_count": null,
   "id": "763591c9-cd37-4440-9fca-d2b7b2d735b8",
   "metadata": {},
   "outputs": [],
   "source": []
  },
  {
   "cell_type": "markdown",
   "id": "b4f0faee-3681-4c96-93af-8b8f2f9697d3",
   "metadata": {},
   "source": [
    "# final dataset"
   ]
  },
  {
   "cell_type": "code",
   "execution_count": 26,
   "id": "061b8a56-ce57-45cb-8f85-727675f0823c",
   "metadata": {},
   "outputs": [],
   "source": [
    "dataset.to_csv(\"Virat Kohli DataSet Clean.csv\",index=False)"
   ]
  },
  {
   "cell_type": "code",
   "execution_count": null,
   "id": "e4baed1b-d85f-4294-9dd0-f70811758a26",
   "metadata": {},
   "outputs": [],
   "source": []
  }
 ],
 "metadata": {
  "kernelspec": {
   "display_name": "Python 3 (ipykernel)",
   "language": "python",
   "name": "python3"
  },
  "language_info": {
   "codemirror_mode": {
    "name": "ipython",
    "version": 3
   },
   "file_extension": ".py",
   "mimetype": "text/x-python",
   "name": "python",
   "nbconvert_exporter": "python",
   "pygments_lexer": "ipython3",
   "version": "3.12.2"
  }
 },
 "nbformat": 4,
 "nbformat_minor": 5
}
